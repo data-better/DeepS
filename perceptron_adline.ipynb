{
  "nbformat": 4,
  "nbformat_minor": 0,
  "metadata": {
    "colab": {
      "provenance": [],
      "authorship_tag": "ABX9TyOkd35x8nuLDlGYK0Pv4gjc",
      "include_colab_link": true
    },
    "kernelspec": {
      "name": "python3",
      "display_name": "Python 3"
    },
    "language_info": {
      "name": "python"
    }
  },
  "cells": [
    {
      "cell_type": "markdown",
      "metadata": {
        "id": "view-in-github",
        "colab_type": "text"
      },
      "source": [
        "<a href=\"https://colab.research.google.com/github/data-better/DeepS/blob/master/perceptron_adline.ipynb\" target=\"_parent\"><img src=\"https://colab.research.google.com/assets/colab-badge.svg\" alt=\"Open In Colab\"/></a>"
      ]
    },
    {
      "cell_type": "markdown",
      "source": [
        "## Perceptron과 Adaline"
      ],
      "metadata": {
        "id": "II9BkB33vqBw"
      }
    },
    {
      "cell_type": "code",
      "execution_count": 80,
      "metadata": {
        "id": "PuemXU88rfCP"
      },
      "outputs": [],
      "source": [
        "from mlxtend.data import iris_data\n",
        "from mlxtend.plotting import plot_decision_regions\n",
        "from mlxtend.classifier import Adaline\n",
        "import matplotlib.pyplot as plt"
      ]
    },
    {
      "cell_type": "markdown",
      "source": [
        "### 1. 데이터 준비"
      ],
      "metadata": {
        "id": "cJgUsJL9vv0o"
      }
    },
    {
      "cell_type": "code",
      "source": [
        "# Loading Data\n",
        "X, y = iris_data()\n",
        "X = X[:, [0, 1]] # sepal length and petal width\n",
        "X = X[0:100] # class 0 and class 1\n",
        "y = y[0:100] # class 0 and class 1"
      ],
      "metadata": {
        "id": "v6imSTUPrjPS"
      },
      "execution_count": 81,
      "outputs": []
    },
    {
      "cell_type": "code",
      "source": [
        "# standardize\n",
        "X[:,0] = (X[:,0] - X[:,0].mean()) / X[:,0].std()\n",
        "X[:,1] = (X[:,1] - X[:,1].mean()) / X[:,1].std()"
      ],
      "metadata": {
        "id": "QZMTpRPPrqUr"
      },
      "execution_count": 82,
      "outputs": []
    },
    {
      "cell_type": "markdown",
      "source": [
        "### 2. Perceptron"
      ],
      "metadata": {
        "id": "ynJ-jzMuwUus"
      }
    },
    {
      "cell_type": "markdown",
      "source": [
        "* 모형"
      ],
      "metadata": {
        "id": "WDW86AUfwkpg"
      }
    },
    {
      "cell_type": "code",
      "source": [
        "# Rosenblatt Perceptron\n",
        "from mlxtend.classifier import Perceptron\n",
        "ppn = Perceptron(epochs=10,\n",
        "                 eta=0.05,\n",
        "                 random_seed=20,\n",
        "                 print_progress=3)\n",
        "ppn.fit(X, y)"
      ],
      "metadata": {
        "colab": {
          "base_uri": "https://localhost:8080/"
        },
        "id": "BDVXWOICwZUQ",
        "outputId": "39df8635-2130-4dd1-b5e3-19819d1d76d8"
      },
      "execution_count": 83,
      "outputs": [
        {
          "output_type": "stream",
          "name": "stderr",
          "text": [
            "Iteration: 10/10 | Elapsed: 0:00:00 | ETA: 0:00:00"
          ]
        },
        {
          "output_type": "execute_result",
          "data": {
            "text/plain": [
              "<mlxtend.classifier.perceptron.Perceptron at 0x7b78e7ba44f0>"
            ]
          },
          "metadata": {},
          "execution_count": 83
        }
      ]
    },
    {
      "cell_type": "markdown",
      "source": [
        "* 가중치"
      ],
      "metadata": {
        "id": "psLgm5mywqEu"
      }
    },
    {
      "cell_type": "code",
      "source": [
        "print('Weights: %s' % ppn.w_)"
      ],
      "metadata": {
        "colab": {
          "base_uri": "https://localhost:8080/"
        },
        "id": "fHvF1yBcwY_l",
        "outputId": "79c16232-1d83-4552-d5de-4b5283cd513b"
      },
      "execution_count": 84,
      "outputs": [
        {
          "output_type": "stream",
          "name": "stdout",
          "text": [
            "Weights: [[ 0.21244693]\n",
            " [-0.14582332]]\n"
          ]
        }
      ]
    },
    {
      "cell_type": "markdown",
      "source": [
        "* 분류 결과"
      ],
      "metadata": {
        "id": "gprcZGaZwvs0"
      }
    },
    {
      "cell_type": "code",
      "source": [
        "plot_decision_regions(X, y, clf=ppn)\n",
        "plt.title('Perceptron')\n",
        "plt.show()"
      ],
      "metadata": {
        "colab": {
          "base_uri": "https://localhost:8080/",
          "height": 452
        },
        "id": "frp4CaDTwYtE",
        "outputId": "d5c09877-6338-4bce-8286-fc4ee7fe18b9"
      },
      "execution_count": 85,
      "outputs": [
        {
          "output_type": "display_data",
          "data": {
            "text/plain": [
              "<Figure size 640x480 with 1 Axes>"
            ],
            "image/png": "[encoded data removed]"
          },
          "metadata": {}
        }
      ]
    },
    {
      "cell_type": "markdown",
      "source": [
        "### 3. Adaline"
      ],
      "metadata": {
        "id": "QV7dezfUvkxM"
      }
    },
    {
      "cell_type": "markdown",
      "source": [
        "* 모형"
      ],
      "metadata": {
        "id": "Gu_xbMeWwySb"
      }
    },
    {
      "cell_type": "code",
      "source": [
        "ada = Adaline(epochs=30,\n",
        "              eta=0.01,\n",
        "              minibatches=None,\n",
        "              random_seed=0)\n",
        "ada.fit(X, y)"
      ],
      "metadata": {
        "colab": {
          "base_uri": "https://localhost:8080/"
        },
        "id": "TbkiA91vrmCe",
        "outputId": "5b6ec29b-c44e-4977-e23d-e2fc1ee8e3d5"
      },
      "execution_count": 86,
      "outputs": [
        {
          "output_type": "execute_result",
          "data": {
            "text/plain": [
              "<mlxtend.classifier.adaline.Adaline at 0x7b78e7ba5a80>"
            ]
          },
          "metadata": {},
          "execution_count": 86
        }
      ]
    },
    {
      "cell_type": "markdown",
      "source": [
        "* 가중치"
      ],
      "metadata": {
        "id": "B3u8RV3-v2Zy"
      }
    },
    {
      "cell_type": "code",
      "source": [
        "print('Weights: %s' % ada.w_)"
      ],
      "metadata": {
        "colab": {
          "base_uri": "https://localhost:8080/"
        },
        "id": "xVN1y4Fes5KH",
        "outputId": "d6b58f2e-60be-49e9-a206-e6f10a4af67d"
      },
      "execution_count": 87,
      "outputs": [
        {
          "output_type": "stream",
          "name": "stdout",
          "text": [
            "Weights: [[ 0.61720716]\n",
            " [-0.56203111]]\n"
          ]
        }
      ]
    },
    {
      "cell_type": "markdown",
      "source": [
        "* 분류결과"
      ],
      "metadata": {
        "id": "p1Cy1M37wAM2"
      }
    },
    {
      "cell_type": "code",
      "source": [
        "plot_decision_regions(X, y, clf=ada)\n",
        "plt.title('Adaline')\n",
        "plt.show()"
      ],
      "metadata": {
        "colab": {
          "base_uri": "https://localhost:8080/",
          "height": 452
        },
        "id": "V3-InNw8sLA3",
        "outputId": "3165903f-40ec-4948-ddc8-354b820b8922"
      },
      "execution_count": 88,
      "outputs": [
        {
          "output_type": "display_data",
          "data": {
            "text/plain": [
              "<Figure size 640x480 with 1 Axes>"
            ],
            "image/png": "[encoded data removed]"
          },
          "metadata": {}
        }
      ]
    }
  ]
}