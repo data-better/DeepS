{
  "nbformat": 4,
  "nbformat_minor": 0,
  "metadata": {
    "colab": {
      "provenance": [],
      "authorship_tag": "ABX9TyO6ry5uiKYwewFfUfezPp5+",
      "include_colab_link": true
    },
    "kernelspec": {
      "name": "python3",
      "display_name": "Python 3"
    },
    "language_info": {
      "name": "python"
    }
  },
  "cells": [
    {
      "cell_type": "markdown",
      "metadata": {
        "id": "view-in-github",
        "colab_type": "text"
      },
      "source": [
        "<a href=\"https://colab.research.google.com/github/data-better/DeepS/blob/master/perceptron_adline.ipynb\" target=\"_parent\"><img src=\"https://colab.research.google.com/assets/colab-badge.svg\" alt=\"Open In Colab\"/></a>"
      ]
    },
    {
      "cell_type": "markdown",
      "source": [
        "## Perceptron과 Adaline"
      ],
      "metadata": {
        "id": "II9BkB33vqBw"
      }
    },
    {
      "cell_type": "code",
      "execution_count": 52,
      "metadata": {
        "id": "PuemXU88rfCP"
      },
      "outputs": [],
      "source": [
        "from mlxtend.data import iris_data\n",
        "from mlxtend.plotting import plot_decision_regions\n",
        "from mlxtend.classifier import Adaline\n",
        "import matplotlib.pyplot as plt"
      ]
    },
    {
      "cell_type": "markdown",
      "source": [
        "### 1. 데이터 준비"
      ],
      "metadata": {
        "id": "cJgUsJL9vv0o"
      }
    },
    {
      "cell_type": "code",
      "source": [
        "# Loading Data\n",
        "X, y = iris_data()\n",
        "X = X[:, [0, 1]] # sepal length and petal width\n",
        "X = X[0:100] # class 0 and class 1\n",
        "y = y[0:100] # class 0 and class 1"
      ],
      "metadata": {
        "id": "v6imSTUPrjPS"
      },
      "execution_count": 53,
      "outputs": []
    },
    {
      "cell_type": "code",
      "source": [
        "# standardize\n",
        "X[:,0] = (X[:,0] - X[:,0].mean()) / X[:,0].std()\n",
        "X[:,1] = (X[:,1] - X[:,1].mean()) / X[:,1].std()"
      ],
      "metadata": {
        "id": "QZMTpRPPrqUr"
      },
      "execution_count": 54,
      "outputs": []
    },
    {
      "cell_type": "markdown",
      "source": [
        "### 2. Perceptron"
      ],
      "metadata": {
        "id": "ynJ-jzMuwUus"
      }
    },
    {
      "cell_type": "markdown",
      "source": [
        "* 모형"
      ],
      "metadata": {
        "id": "WDW86AUfwkpg"
      }
    },
    {
      "cell_type": "code",
      "source": [
        "# Rosenblatt Perceptron\n",
        "from mlxtend.classifier import Perceptron\n",
        "ppn = Perceptron(epochs=5,\n",
        "                 eta=0.05,\n",
        "                 random_seed=0,\n",
        "                 print_progress=3)\n",
        "ppn.fit(X, y)"
      ],
      "metadata": {
        "colab": {
          "base_uri": "https://localhost:8080/"
        },
        "id": "BDVXWOICwZUQ",
        "outputId": "fde51e35-3663-444a-c5c4-6e81162d065b"
      },
      "execution_count": 55,
      "outputs": [
        {
          "output_type": "stream",
          "name": "stderr",
          "text": [
            "Iteration: 5/5 | Elapsed: 00:00:00 | ETA: 00:00:00"
          ]
        },
        {
          "output_type": "execute_result",
          "data": {
            "text/plain": [
              "<mlxtend.classifier.perceptron.Perceptron at 0x7b78e78f3f10>"
            ]
          },
          "metadata": {},
          "execution_count": 55
        }
      ]
    },
    {
      "cell_type": "markdown",
      "source": [
        "* 가중치 : $w_0$, $w_1$"
      ],
      "metadata": {
        "id": "psLgm5mywqEu"
      }
    },
    {
      "cell_type": "code",
      "source": [
        "print('Bias & Weights: %s' % ppn.w_)"
      ],
      "metadata": {
        "colab": {
          "base_uri": "https://localhost:8080/"
        },
        "id": "fHvF1yBcwY_l",
        "outputId": "cba79928-a6c5-496f-f5a9-38ef1cecb57f"
      },
      "execution_count": 56,
      "outputs": [
        {
          "output_type": "stream",
          "name": "stdout",
          "text": [
            "Bias & Weights: [[ 0.49204716]\n",
            " [-0.24807225]]\n"
          ]
        }
      ]
    },
    {
      "cell_type": "markdown",
      "source": [
        "* 분류 결과"
      ],
      "metadata": {
        "id": "gprcZGaZwvs0"
      }
    },
    {
      "cell_type": "code",
      "source": [
        "plot_decision_regions(X, y, clf=ppn)\n",
        "plt.title('Perceptron')\n",
        "plt.show()"
      ],
      "metadata": {
        "colab": {
          "base_uri": "https://localhost:8080/",
          "height": 452
        },
        "id": "frp4CaDTwYtE",
        "outputId": "a68f6d91-fd0b-41b7-e02d-2cad08cbd2b0"
      },
      "execution_count": 59,
      "outputs": [
        {
          "output_type": "display_data",
          "data": {
            "text/plain": [
              "<Figure size 640x480 with 1 Axes>"
            ],
            "image/png": "[encoded data removed]"
          },
          "metadata": {}
        }
      ]
    },
    {
      "cell_type": "markdown",
      "source": [
        "### 3. Adaline"
      ],
      "metadata": {
        "id": "QV7dezfUvkxM"
      }
    },
    {
      "cell_type": "markdown",
      "source": [
        "* 모형"
      ],
      "metadata": {
        "id": "Gu_xbMeWwySb"
      }
    },
    {
      "cell_type": "code",
      "source": [
        "ada = Adaline(epochs=30,\n",
        "              eta=0.01,\n",
        "              minibatches=None,\n",
        "              random_seed=1)\n",
        "ada.fit(X, y)"
      ],
      "metadata": {
        "colab": {
          "base_uri": "https://localhost:8080/"
        },
        "id": "TbkiA91vrmCe",
        "outputId": "b6d0fd31-41b0-4df0-9a8e-76abc919fe1a"
      },
      "execution_count": 60,
      "outputs": [
        {
          "output_type": "execute_result",
          "data": {
            "text/plain": [
              "<mlxtend.classifier.adaline.Adaline at 0x7b78e79ebac0>"
            ]
          },
          "metadata": {},
          "execution_count": 60
        }
      ]
    },
    {
      "cell_type": "markdown",
      "source": [
        "* 가중치 : $w_0$와 $w_1$"
      ],
      "metadata": {
        "id": "B3u8RV3-v2Zy"
      }
    },
    {
      "cell_type": "code",
      "source": [
        "print('Bias & Weights: %s' % ada.w_)"
      ],
      "metadata": {
        "colab": {
          "base_uri": "https://localhost:8080/"
        },
        "id": "xVN1y4Fes5KH",
        "outputId": "719318dd-1a77-448d-f5c6-277c31cd9057"
      },
      "execution_count": 61,
      "outputs": [
        {
          "output_type": "stream",
          "name": "stdout",
          "text": [
            "Bias & Weights: [[ 0.61720716]\n",
            " [-0.56203111]]\n"
          ]
        }
      ]
    },
    {
      "cell_type": "markdown",
      "source": [
        "* 분류결과"
      ],
      "metadata": {
        "id": "p1Cy1M37wAM2"
      }
    },
    {
      "cell_type": "code",
      "source": [
        "plot_decision_regions(X, y, clf=ada)\n",
        "plt.title('Adaline')\n",
        "plt.show()"
      ],
      "metadata": {
        "colab": {
          "base_uri": "https://localhost:8080/",
          "height": 452
        },
        "id": "V3-InNw8sLA3",
        "outputId": "40a62b97-23ba-44f1-dc48-71bf453bcb6b"
      },
      "execution_count": 62,
      "outputs": [
        {
          "output_type": "display_data",
          "data": {
            "text/plain": [
              "<Figure size 640x480 with 1 Axes>"
            ],
            "image/png": "[encoded data removed]"
          },
          "metadata": {}
        }
      ]
    }
  ]
}